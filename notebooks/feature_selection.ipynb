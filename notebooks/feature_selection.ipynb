{
 "cells": [
  {
   "cell_type": "markdown",
   "metadata": {},
   "source": [
    "# PRESS Geneset Reduction\n",
    "\n",
    "We would like to reduce PRESS to a smaller set of genes that are most informative for the phenotype of interest.\n",
    "\n",
    "**Potential Feature Reduction Methods**:\n",
    "- RFE-LASSO\n",
    "- RFE-RF\n",
    "- RFE-Adaboost\n",
    "- [Sequential Feature Selection](https://scikit-learn.org/stable/modules/generated/sklearn.feature_selection.SequentialFeatureSelector.html#sklearn.feature_selection.SequentialFeatureSelector)\n",
    "- [Millipede](https://millipede.readthedocs.io/en/latest/getting_started.html)\n",
    "- [Boruta](https://cran.r-project.org/web/packages/Boruta/vignettes/inahurry.pdf)\n",
    "- [Ranked MSD](https://github.com/researher/Ranked_MSD/blob/master/Code_Ranked_MSD_and_F_Best.R)\n",
    "- [Relief Algorithms](https://gitlab.com/moongoal/sklearn-relief)\n",
    "- [Wx](https://github.com/deargen/DearWXpub)\n",
    "- [Feature selection methods](https://github.com/MASOUD-AJUMS/Breast-cancer-prediction-/tree/main)\n",
    "- Pick genes with highest explained variance\n",
    "- Pick hub genes to correlations\n",
    "- Overlap of DUKE & PACE log2FC\n",
    "- High Basemeans"
   ]
  },
  {
   "cell_type": "markdown",
   "metadata": {},
   "source": [
    "# 01 Data Preparation\n",
    "\n",
    "We will start by loading the data and preparing it for the feature reduction methods. Just to summarise:\n",
    "- We have 3 datasets: PACE, DUKE, and CHORD\n",
    "- We are starting with 451 features (genes)\n",
    "\n",
    "The data prep is done in the src"
   ]
  },
  {
   "cell_type": "code",
   "execution_count": 8,
   "metadata": {},
   "outputs": [
    {
     "name": "stdout",
     "output_type": "stream",
     "text": [
      "Setting random seed to 420 for reproducibility.\n",
      "Original shape: (84, 451)\n"
     ]
    },
    {
     "data": {
      "text/plain": [
       "(451,)"
      ]
     },
     "execution_count": 8,
     "metadata": {},
     "output_type": "execute_result"
    }
   ],
   "source": [
    "# Set some sys path stuff\n",
    "import sys\n",
    "import os\n",
    "from MattTools import utils\n",
    "from joblib import dump, load\n",
    "import pandas as pd\n",
    "import numpy as np\n",
    "\n",
    "# More custom imports\n",
    "sys.path.append('..')\n",
    "import src.data_functions as dfs\n",
    "import src.feature_selection as fs\n",
    "\n",
    "utils.hide_warnings()\n",
    "utils.set_random_seed(420)\n",
    "\n",
    "# get the data\n",
    "X, y = dfs.load_data('../data/clean/pace/features.csv', '../data/clean/pace/labels.csv')\n",
    "\n",
    "from sklearn.preprocessing import StandardScaler\n",
    "scaler = StandardScaler()\n",
    "X = pd.DataFrame(scaler.fit_transform(X), columns=X.columns, index=X.index)\n",
    "\n",
    "print('Original shape:', X.shape)"
   ]
  },
  {
   "cell_type": "code",
   "execution_count": 15,
   "metadata": {},
   "outputs": [],
   "source": [
    "# Take out the pace scores and run a scaler on the data\n",
    "press451 = load('../models/jobs/press451.joblib')\n",
    "pred_prob = press451.predict_proba(X)[:, 1]\n",
    "scaler = StandardScaler()\n",
    "scores = pd.DataFrame(\n",
    "    scaler.fit_transform(pred_prob.reshape(-1, 1)), \n",
    "    columns=['score'], \n",
    "    index=X.index\n",
    "    )\n",
    "# add the pred_prob to scores\n",
    "scores['pred_prob'] = pred_prob\n"
   ]
  },
  {
   "cell_type": "markdown",
   "metadata": {},
   "source": [
    "# 02 Geneset Selection Methods"
   ]
  },
  {
   "cell_type": "markdown",
   "metadata": {},
   "source": [
    "## Recursive Feature Elimination (RFE)\n"
   ]
  },
  {
   "cell_type": "code",
   "execution_count": null,
   "metadata": {},
   "outputs": [],
   "source": [
    "from sklearn.linear_model import LogisticRegression\n",
    "rfe_selector = fs.RFESelector(LogisticRegression())\n",
    "\n",
    "rfe_selector.fit(X, y)\n",
    "rfe_selector.plot_features()"
   ]
  },
  {
   "cell_type": "code",
   "execution_count": null,
   "metadata": {},
   "outputs": [],
   "source": [
    "from sklearn.ensemble import RandomForestClassifier\n",
    "rfe_selector = fs.RFESelector(RandomForestClassifier())\n",
    "\n",
    "rfe_selector.fit(X, y)\n",
    "rfe_selector.plot_features()"
   ]
  },
  {
   "cell_type": "code",
   "execution_count": null,
   "metadata": {},
   "outputs": [],
   "source": [
    "from sklearn.ensemble import AdaBoostClassifier\n",
    "rfe_selector = fs.RFESelector(AdaBoostClassifier())\n",
    "\n",
    "rfe_selector.fit(X, y)\n",
    "rfe_selector.plot_features()"
   ]
  },
  {
   "cell_type": "markdown",
   "metadata": {},
   "source": [
    "## Sequential Feature Selection"
   ]
  },
  {
   "cell_type": "code",
   "execution_count": null,
   "metadata": {},
   "outputs": [],
   "source": [
    "# # So why not try this with press?\n",
    "# press451 = load('../models/jobs/press451.joblib')\n",
    "\n",
    "# SeqSelector = fs.SFSSelector(press451, 0.05)\n",
    "\n",
    "# SeqSelector.fit(X, y)\n",
    "# SeqSelector.plot_results()\n",
    "\n",
    "# # THIS IS TOO COMPUTATIONALLY EXPENSIVE SO MOVING TO PY FILES"
   ]
  },
  {
   "cell_type": "markdown",
   "metadata": {},
   "source": [
    "## Millipede"
   ]
  },
  {
   "cell_type": "code",
   "execution_count": null,
   "metadata": {},
   "outputs": [],
   "source": []
  }
 ],
 "metadata": {
  "kernelspec": {
   "display_name": "main",
   "language": "python",
   "name": "python3"
  },
  "language_info": {
   "codemirror_mode": {
    "name": "ipython",
    "version": 3
   },
   "file_extension": ".py",
   "mimetype": "text/x-python",
   "name": "python",
   "nbconvert_exporter": "python",
   "pygments_lexer": "ipython3",
   "version": "3.11.3"
  }
 },
 "nbformat": 4,
 "nbformat_minor": 2
}
