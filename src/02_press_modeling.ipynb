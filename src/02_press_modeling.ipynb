{
 "cells": [
  {
   "attachments": {},
   "cell_type": "markdown",
   "metadata": {},
   "source": [
    "\n",
    "# Matthew Muller\n",
    "1/19/23\n",
    "\n",
    "Description:\n",
    "- This script will train and evaluate a machine learning model using sklearn."
   ]
  },
  {
   "attachments": {},
   "cell_type": "markdown",
   "metadata": {},
   "source": [
    "### Under the hood"
   ]
  },
  {
   "cell_type": "code",
   "execution_count": null,
   "metadata": {},
   "outputs": [],
   "source": [
    "########################################\n",
    "# Library Imports\n",
    "import sys\n",
    "import numpy as np\n",
    "import pandas as pd\n",
    "import matplotlib.pyplot as plt\n",
    "import seaborn as sns\n",
    "from random import randint\n",
    "from scipy.stats import kruskal\n",
    "\n",
    "from sklearn.model_selection import GridSearchCV\n",
    "from sklearn.pipeline import Pipeline\n",
    "from sklearn.preprocessing import StandardScaler, label_binarize\n",
    "from sklearn.svm import LinearSVC, SVC\n",
    "from sklearn.decomposition import PCA, NMF\n",
    "from sklearn.linear_model import LogisticRegression\n",
    "from sklearn.metrics import roc_auc_score, classification_report\n",
    "from sklearn.metrics import roc_curve, confusion_matrix\n",
    "\n",
    "from joblib import load, dump\n",
    "\n",
    "########################################\n",
    "# Set/Append Working directory)\n",
    "\n",
    "########################################\n",
    "# Import Functions\n",
    "from MattTools.plotting import plot_roc_curve, plot_confusion_matrix, plot_training_roc_curve_ci, plot_roc_curve_ci\n",
    "from MattTools.plotting import plot_scree, plot_training_probas\n",
    "from MattTools.stats import bootstrap_auc_confidence\n",
    "from MattTools import utils\n",
    "\n",
    "# Hide warnings\n",
    "utils.hide_warnings()\n",
    "utils.set_random_seed()"
   ]
  },
  {
   "attachments": {},
   "cell_type": "markdown",
   "metadata": {},
   "source": [
    "### Load in Data"
   ]
  },
  {
   "cell_type": "code",
   "execution_count": null,
   "metadata": {},
   "outputs": [],
   "source": [
    "path = '../data/clean/'\n",
    "X_train = pd.read_csv(path+'pace/features.csv', index_col=0, header=0)\n",
    "y_train = pd.read_csv(path+'pace/labels.csv').to_numpy()[:,0]\n",
    "\n",
    "X_test = pd.read_csv(path+'duke/features_group1.csv')\n",
    "y_test = pd.read_csv(path+'duke/labels_group1.csv').to_numpy()[:,0]\n",
    "\n",
    "X_test2 = pd.read_csv(path+'duke/features_group2.csv')\n",
    "y_test2 = pd.read_csv(path+'duke/labels_group2.csv').to_numpy()[:,0]\n",
    "\n",
    "X_test.shape, X_train.shape"
   ]
  },
  {
   "attachments": {},
   "cell_type": "markdown",
   "metadata": {},
   "source": [
    "### Run Model"
   ]
  },
  {
   "cell_type": "code",
   "execution_count": null,
   "metadata": {},
   "outputs": [],
   "source": [
    "#### Make model pipeline (if needed) and search for params\n",
    "# The general idea here is fit each gene to a SVC and then add them into a voting classifier\n",
    "from sklearn.ensemble import VotingClassifier, StackingClassifier\n",
    "from sklearn.ensemble import RandomForestClassifier, ExtraTreesClassifier, AdaBoostClassifier\n",
    "from sklearn.neighbors import KNeighborsClassifier\n",
    "from sklearn.linear_model import LogisticRegression, Perceptron\n",
    "from sklearn.ensemble import GradientBoostingClassifier\n",
    "from sklearn.naive_bayes import GaussianNB\n",
    "\n",
    "# good RF random seeds:\n",
    "seeds = [1148093, 1095286, 1665788, 97057, 152878, 4543, 277452, 295106, 191278, 701043, 81388, 951209, 1327001, 527903, 1148093, 1095286, 1665788, 97057, 152878, 4543, 277452, 295106, 191278, 701043, 81388, 951209, 1327001, 527903]\n",
    "n = 28\n",
    "# seeds = [randint(0,1000000) for x in range(n)]\n",
    "pipe = Pipeline([\n",
    "    ('scaler', StandardScaler()), \n",
    "    # make a voting classifier made a bunch of RFs\n",
    "    ('voting', VotingClassifier(\n",
    "        estimators=\n",
    "        [('rf'+str(i), RandomForestClassifier(class_weight='balanced', n_estimators=100)) for i in range(n)] +\n",
    "        \n",
    "        [('extraTrees'+str(i), ExtraTreesClassifier(class_weight='balanced', random_state=seeds[i])) for i in range(n) ] +\n",
    "        \n",
    "        [('gbc'+str(i), GradientBoostingClassifier(random_state=seeds[i], max_features='log2', n_estimators=60)) for i in range(n) ] +\n",
    "        \n",
    "        [('ada'+str(i), AdaBoostClassifier(learning_rate=10)) for i in range(n) ],\n",
    "        \n",
    "        voting='soft',\n",
    "        n_jobs=-1,\n",
    "        ))\n",
    "    ])\n",
    "\n",
    "cv = GridSearchCV(\n",
    "    pipe, parameters,\n",
    "    n_jobs=-1,\n",
    "    scoring=\"roc_auc\",\n",
    "    )\n",
    "\n",
    "# Fit model\n",
    "cv.fit(X_train, y_train)\n",
    "\n",
    "model = cv.best_estimator_\n",
    "print(cv.best_score_)\n",
    "print(cv.best_params_)"
   ]
  },
  {
   "attachments": {},
   "cell_type": "markdown",
   "metadata": {},
   "source": [
    "### Evaludate Model"
   ]
  },
  {
   "cell_type": "code",
   "execution_count": null,
   "metadata": {},
   "outputs": [],
   "source": [
    "from sklearn.model_selection import StratifiedKFold\n",
    "# Training Stats\n",
    "\n",
    "cv = StratifiedKFold(n_splits=10)\n",
    "\n",
    "plot_training_roc_curve_ci(model, X_train, y_train, title='10-fold Cross Validation Training on PACE Cohort',cv = cv)\n",
    "plot_training_probas(\n",
    "    model, X_train, y_train, title='10-fold Cross Validation Training on PACE Cohort',cv = cv)"
   ]
  },
  {
   "cell_type": "code",
   "execution_count": null,
   "metadata": {},
   "outputs": [],
   "source": [
    "\n",
    "#### Metrics\n",
    "print(classification_report(y_test, model.predict(X_test)))\n",
    "print(f'AUC: {roc_auc_score(y_test, model.predict_proba(X_test)[:,1])}')\n",
    "plot_confusion_matrix(y_test, model.predict(X_test), labels = ['normal', 'hyper'])\n",
    "plot_roc_curve_ci(model, X_test, y_test, title='ROC Curve on Duke Cohort')\n",
    "\n",
    "# plot the prc curve\n",
    "from sklearn.metrics import precision_recall_curve\n",
    "from sklearn.metrics import average_precision_score\n",
    "from sklearn.metrics import auc\n",
    "\n",
    "# predict probabilities\n",
    "lr_probs = model.predict_proba(X_test)[:,1]\n",
    "# calculate precision and recall for each threshold\n",
    "lr_precision, lr_recall, _ = precision_recall_curve(y_test, lr_probs)\n",
    "# calculate scores\n",
    "lr_auc = auc(lr_recall, lr_precision)\n",
    "# summarize scores\n",
    "print('Logistic: PR AUC=%.3f' % (lr_auc))\n",
    "# plot the precision-recall curves\n",
    "no_skill = len(y_test[y_test==1]) / len(y_test)\n",
    "plt.plot([0, 1], [no_skill, no_skill], linestyle='--', label='No Skill')\n",
    "plt.plot(lr_recall, lr_precision, marker='.', label='Logistic')\n",
    "# axis labels\n",
    "plt.xlabel('Recall')\n",
    "plt.ylabel('Precision')\n",
    "plt.legend()\n",
    "# show the plot\n",
    "plt.show()"
   ]
  },
  {
   "attachments": {},
   "cell_type": "markdown",
   "metadata": {},
   "source": [
    "### Model Disease Correlations"
   ]
  },
  {
   "cell_type": "code",
   "execution_count": null,
   "metadata": {},
   "outputs": [],
   "source": [
    "# ### Load in disease gene ratio data\n",
    "# sle_ratios = pd.read_csv('../data/clean/model_validation/sle/sle_features_labels.csv', index_col=0)\n",
    "male_ratios = pd.read_csv('../data/clean/model_validation/male/male_features_labels.csv', index_col=0)\n",
    "mace_ratios = pd.read_csv('../data/clean/model_validation/mace/mace_features_labels.csv', index_col=0)\n",
    "covid_ratios = pd.read_csv('../data/clean/model_validation/covid/covid_features_labels.csv', index_col=0)\n",
    "pad_ratios = pd.read_csv('../data/clean/model_validation/pad/pad_features_labels.csv', index_col=0)\n",
    "harp_ratios = pd.read_csv('../data/clean/model_validation/harp/harp_features_labels.csv', index_col=0)\n",
    "\n",
    "disease_ratios = {\n",
    "    # 'sle':sle_ratios, \n",
    "    'male':male_ratios, \n",
    "    'mace':mace_ratios, \n",
    "    'covid':covid_ratios, \n",
    "    'pad':pad_ratios, \n",
    "    'harp':harp_ratios\n",
    "    }\n",
    "\n",
    "male_ratios"
   ]
  }
 ],
 "metadata": {
  "kernelspec": {
   "display_name": "tf",
   "language": "python",
   "name": "python3"
  },
  "language_info": {
   "codemirror_mode": {
    "name": "ipython",
    "version": 3
   },
   "file_extension": ".py",
   "mimetype": "text/x-python",
   "name": "python",
   "nbconvert_exporter": "python",
   "pygments_lexer": "ipython3",
   "version": "3.11.3"
  },
  "orig_nbformat": 4,
  "vscode": {
   "interpreter": {
    "hash": "0d66913bb719389121bab79020f7a52c6e05d87274bae621f301af382c19c893"
   }
  }
 },
 "nbformat": 4,
 "nbformat_minor": 2
}
